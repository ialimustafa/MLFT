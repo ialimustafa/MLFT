{
  "nbformat": 4,
  "nbformat_minor": 0,
  "metadata": {
    "colab": {
      "name": "Numpy for ML.ipynb",
      "provenance": [],
      "include_colab_link": true
    },
    "kernelspec": {
      "name": "python3",
      "display_name": "Python 3"
    }
  },
  "cells": [
    {
      "cell_type": "markdown",
      "metadata": {
        "id": "view-in-github",
        "colab_type": "text"
      },
      "source": [
        "<a href=\"https://colab.research.google.com/github/ialimustufa/MLFT/blob/master/Numpy_for_ML.ipynb\" target=\"_parent\"><img src=\"https://colab.research.google.com/assets/colab-badge.svg\" alt=\"Open In Colab\"/></a>"
      ]
    },
    {
      "cell_type": "markdown",
      "metadata": {
        "id": "48s4OPU2FwHM",
        "colab_type": "text"
      },
      "source": [
        "# **Task 2 Solution**"
      ]
    },
    {
      "cell_type": "code",
      "metadata": {
        "id": "R3ozkIGlqoUR",
        "colab_type": "code",
        "colab": {
          "base_uri": "https://localhost:8080/",
          "height": 227
        },
        "outputId": "4192d610-1b6a-422c-a64c-fa0b50a122ee"
      },
      "source": [
        "def getsymbol() :\n",
        "    x = input (\"Enter your symbol : \")\n",
        "    makepattern (x)\n",
        "\n",
        "def makepattern (x) :\n",
        "\n",
        "    for i in range (10) :\n",
        "        if i < 6 :\n",
        "              print ((10 - i) * ' ' + i * (x + ' '))\n",
        "        else : \n",
        "              print ( i * ' ' + (10 - i) * (x + ' '))\n",
        "\n",
        "getsymbol()"
      ],
      "execution_count": 1,
      "outputs": [
        {
          "output_type": "stream",
          "text": [
            "Enter your symbol : @\n",
            "          \n",
            "         @ \n",
            "        @ @ \n",
            "       @ @ @ \n",
            "      @ @ @ @ \n",
            "     @ @ @ @ @ \n",
            "      @ @ @ @ \n",
            "       @ @ @ \n",
            "        @ @ \n",
            "         @ \n"
          ],
          "name": "stdout"
        }
      ]
    },
    {
      "cell_type": "markdown",
      "metadata": {
        "id": "MQ1wHJs47KUn",
        "colab_type": "text"
      },
      "source": [
        "# **What is a Python NumPy?**\n",
        "NumPy is a Python package which stands for ‘Numerical Python’. It is the core library for scientific computing, which contains a powerful n-dimensional array object, provide tools for integrating C, C++ etc. It is also useful in linear algebra, random number capability etc. \n",
        "\n",
        "NumPy array can also be used as an efficient multi-dimensional container for generic data. Now, let me tell you what exactly is a python numpy array.\n",
        "\n",
        "Numpy array is a powerful N-dimensional array object which is in the form of rows and columns. We can initialize numpy arrays from nested Python lists and access it elements."
      ]
    },
    {
      "cell_type": "markdown",
      "metadata": {
        "id": "M7AVr93y6W0u",
        "colab_type": "text"
      },
      "source": [
        "### Installing Numpy Library\n",
        "\n",
        "You install numpy library through pip in the following way.\n",
        "\n",
        "`---> pip install numpy`\n",
        "\n",
        "If you want a specific version you may do so in the following way.\n",
        "\n",
        "`--> pip install numpy==< version number>`\n",
        "\n"
      ]
    },
    {
      "cell_type": "code",
      "metadata": {
        "id": "jVDDAqLp6-2L",
        "colab_type": "code",
        "colab": {
          "base_uri": "https://localhost:8080/",
          "height": 34
        },
        "outputId": "f38193d8-b126-40f6-f553-d767f28cc8a8"
      },
      "source": [
        "# Installing Numpy Library\n",
        "\n",
        "!pip install numpy"
      ],
      "execution_count": 2,
      "outputs": [
        {
          "output_type": "stream",
          "text": [
            "Requirement already satisfied: numpy in /usr/local/lib/python3.6/dist-packages (1.18.5)\n"
          ],
          "name": "stdout"
        }
      ]
    },
    {
      "cell_type": "markdown",
      "metadata": {
        "id": "GvLZR1I37L3e",
        "colab_type": "text"
      },
      "source": [
        "# **Overview**"
      ]
    },
    {
      "cell_type": "code",
      "metadata": {
        "id": "9PLDX4-H7PF9",
        "colab_type": "code",
        "colab": {
          "base_uri": "https://localhost:8080/",
          "height": 52
        },
        "outputId": "b222849f-da18-4a57-ebf1-b42abc12e2cd"
      },
      "source": [
        "# Importing the numpy library.\n",
        "import numpy as np\n",
        "\n",
        "# Initialising a numpy array.\n",
        "arr = np.array([-1, 2, 5])\n",
        "\n",
        "# Print the array\n",
        "print(arr)\n",
        "\n",
        "# Printing the representation of the array\n",
        "print(repr(arr))"
      ],
      "execution_count": 3,
      "outputs": [
        {
          "output_type": "stream",
          "text": [
            "[-1  2  5]\n",
            "array([-1,  2,  5])\n"
          ],
          "name": "stdout"
        }
      ]
    },
    {
      "cell_type": "code",
      "metadata": {
        "id": "pVB7CrNu0VRN",
        "colab_type": "code",
        "colab": {
          "base_uri": "https://localhost:8080/",
          "height": 34
        },
        "outputId": "d856e40b-8945-480c-efd0-b35364641685"
      },
      "source": [
        "#Single-dimensional Numpy Array:\n",
        "import numpy as np\n",
        "a=np.array([1,2,3])\n",
        "print(repr(a))"
      ],
      "execution_count": 4,
      "outputs": [
        {
          "output_type": "stream",
          "text": [
            "array([1, 2, 3])\n"
          ],
          "name": "stdout"
        }
      ]
    },
    {
      "cell_type": "code",
      "metadata": {
        "id": "GbbBWk5U0cwx",
        "colab_type": "code",
        "colab": {
          "base_uri": "https://localhost:8080/",
          "height": 52
        },
        "outputId": "8e44c0f4-cc66-41ed-e73a-43cd8b0c8b2b"
      },
      "source": [
        "#Multi-dimensional Array:\n",
        "a=np.array([(1,2,3),(4,5,6)])\n",
        "print(repr(a))"
      ],
      "execution_count": 5,
      "outputs": [
        {
          "output_type": "stream",
          "text": [
            "array([[1, 2, 3],\n",
            "       [4, 5, 6]])\n"
          ],
          "name": "stdout"
        }
      ]
    },
    {
      "cell_type": "markdown",
      "metadata": {
        "id": "EckFx6Tq1zZw",
        "colab_type": "text"
      },
      "source": [
        "**Python NumPy Array v/s List:**\n",
        "\n",
        "We use python numpy array instead of a list because of the below three reasons:\n",
        "\n",
        "1. Less Memory\n",
        "2. Fast\n",
        "3. Convenient\n",
        "\n",
        "The very first reason to choose python numpy array is that it occupies less memory as compared to list. Then, it is pretty fast in terms of execution and at the same time it is very convenient to work with numpy. \n",
        "\n",
        "So these are the major advantages that python numpy array has over list."
      ]
    },
    {
      "cell_type": "code",
      "metadata": {
        "id": "0Pd0I2dxmG7L",
        "colab_type": "code",
        "colab": {
          "base_uri": "https://localhost:8080/",
          "height": 52
        },
        "outputId": "b4e9bb5c-20e4-457e-843c-4806cb74166f"
      },
      "source": [
        "import numpy as np\n",
        "\n",
        "import time \n",
        "import sys\n",
        "\n",
        "r = range(1000)\n",
        "print (sys.getsizeof(r)*len(r))\n",
        "\n",
        "a= np.arange(1000)\n",
        "print(a.itemsize * a.size)"
      ],
      "execution_count": 6,
      "outputs": [
        {
          "output_type": "stream",
          "text": [
            "48000\n",
            "8000\n"
          ],
          "name": "stdout"
        }
      ]
    },
    {
      "cell_type": "markdown",
      "metadata": {
        "id": "GBAJASGvm9Ug",
        "colab_type": "text"
      },
      "source": [
        "# **Numpy arrays**\n",
        "\n",
        "Numpy arrays are basically just python list with added features. In fact, you can easily convert a python list to a NumPy arrays using <a href=https://docs.scipy.org/doc/numpy/reference/generated/numpy.array.html>np.arrays</a> function, which takes in a python list as its required argument. The function also has quite a few keyword arguments, but the main one is **dtype**. \n",
        "The dtype keyword argument takes in a NumPy type and manually casts the array to the specified data type. \n"
      ]
    },
    {
      "cell_type": "code",
      "metadata": {
        "id": "Q4stgcl1nZXg",
        "colab_type": "code",
        "colab": {
          "base_uri": "https://localhost:8080/",
          "height": 86
        },
        "outputId": "1f2e46ea-b8ab-41e5-95d1-5afe89f41b4b"
      },
      "source": [
        "import numpy as np \n",
        "\n",
        "arr = np.array([[0, 1, 2], [3, 4, 5]])\n",
        "\n",
        "print(repr(arr))\n",
        "\n",
        "arr = np.array([[0, 1, 2], [3, 4, 5]],dtype=np.float32)\n",
        "\n",
        "print(repr(arr))"
      ],
      "execution_count": 7,
      "outputs": [
        {
          "output_type": "stream",
          "text": [
            "array([[0, 1, 2],\n",
            "       [3, 4, 5]])\n",
            "array([[0., 1., 2.],\n",
            "       [3., 4., 5.]], dtype=float32)\n"
          ],
          "name": "stdout"
        }
      ]
    },
    {
      "cell_type": "markdown",
      "metadata": {
        "id": "ugR7RzI3WIHL",
        "colab_type": "text"
      },
      "source": [
        "**NOTE:** When the elements of a NumPy array are of mixed types, the array's type will be upcasted to highest level type. This means that if an array input has mixed int or float elements, all integers will be casted to their floating point equivalent. \n",
        "If an array is mixed with int,float, and string elements everything is casted to string.\n",
        "\n",
        "The below code is an example of the above said Note."
      ]
    },
    {
      "cell_type": "code",
      "metadata": {
        "id": "ULOTBpUiV47T",
        "colab_type": "code",
        "colab": {
          "base_uri": "https://localhost:8080/",
          "height": 34
        },
        "outputId": "bfc814a8-8020-42b5-f9d7-0448f99325e8"
      },
      "source": [
        "arr = np.array([0, 0.1, 2])\n",
        "print(repr(arr))"
      ],
      "execution_count": 8,
      "outputs": [
        {
          "output_type": "stream",
          "text": [
            "array([0. , 0.1, 2. ])\n"
          ],
          "name": "stdout"
        }
      ]
    },
    {
      "cell_type": "markdown",
      "metadata": {
        "id": "IPbhHQVqXEvi",
        "colab_type": "text"
      },
      "source": [
        "**Copying in numpy array**\n",
        "\n",
        "Similar to python list, when we make a refrence to a NumPy array it doesn't create a different array. Therefore, if we change a value using the refrence variable, it changes the original array as well. We get around this by using an array's inherent copy function. The function has no required arguments and it returns the copied array.\n",
        "\n",
        "In the below code snippet, c is a refrence to a while d is a copy. Therefore, changing c leads to same change in a, while changing d doesn't change the value of b."
      ]
    },
    {
      "cell_type": "code",
      "metadata": {
        "id": "6QT2K-v9xLz2",
        "colab_type": "code",
        "colab": {
          "base_uri": "https://localhost:8080/",
          "height": 69
        },
        "outputId": "5803f735-4b31-4efc-d70d-3d8e853b05d4"
      },
      "source": [
        "text = \"My name is {name} , I am {age}\".format ( name = \"python\" , age = 10) \n",
        "print (text)\n",
        "\n",
        "text2 = \"My name is {} , I am {}\".format ( \"python\",10) \n",
        "print (text2)\n",
        "\n",
        "text3 = \"My name is {0} , I am {1}\".format ( \"python\" , 10)\n",
        "text3"
      ],
      "execution_count": 9,
      "outputs": [
        {
          "output_type": "stream",
          "text": [
            "My name is python , I am 10\n",
            "My name is python , I am 10\n"
          ],
          "name": "stdout"
        },
        {
          "output_type": "execute_result",
          "data": {
            "application/vnd.google.colaboratory.intrinsic+json": {
              "type": "string"
            },
            "text/plain": [
              "'My name is python , I am 10'"
            ]
          },
          "metadata": {
            "tags": []
          },
          "execution_count": 9
        }
      ]
    },
    {
      "cell_type": "code",
      "metadata": {
        "id": "5KdRY130X2yo",
        "colab_type": "code",
        "colab": {
          "base_uri": "https://localhost:8080/",
          "height": 104
        },
        "outputId": "b16a4d40-90c4-40b1-baeb-786cbf7e23af"
      },
      "source": [
        "# The first array\n",
        "a = np.array([0, 1])\n",
        "\n",
        "# The second array\n",
        "b = np.array([9, 8])\n",
        "\n",
        "# Refrencing\n",
        "c = a\n",
        "print('Array a: {0}'.format(repr(a)))\n",
        "c[0] = 5\n",
        "print('Array c: {0}'.format(repr(c)))\n",
        "print('Array a: {0}'.format(repr(a)))\n",
        "\n",
        "# Copying\n",
        "d = b.copy()\n",
        "d[0] = 6\n",
        "print('Array b: {0}'.format(repr(b)))\n",
        "print('Array d: {0}'.format(repr(d)))"
      ],
      "execution_count": 10,
      "outputs": [
        {
          "output_type": "stream",
          "text": [
            "Array a: array([0, 1])\n",
            "Array c: array([5, 1])\n",
            "Array a: array([5, 1])\n",
            "Array b: array([9, 8])\n",
            "Array d: array([6, 8])\n"
          ],
          "name": "stdout"
        }
      ]
    },
    {
      "cell_type": "markdown",
      "metadata": {
        "id": "PwFCaWxPZAPG",
        "colab_type": "text"
      },
      "source": [
        "**Casting in numpy array**\n",
        "\n",
        "We can cast NumPy arrays through their inherent <a href=\"https://docs.scipy.org/doc/numpy/reference/generated/numpy.ndarray.astype.html\">astype</a> function.\n",
        "The required argument is the new type of the array. It returns the array cast to the new type.\n",
        "\n",
        "The code below shows an example of casting using astype function. The <a href=\"\">dtype</a> property returns the type of the array.\n"
      ]
    },
    {
      "cell_type": "code",
      "metadata": {
        "id": "qqy6bTu6YU5G",
        "colab_type": "code",
        "colab": {
          "base_uri": "https://localhost:8080/",
          "height": 86
        },
        "outputId": "b9cd5088-b762-4186-fc59-ebb288676e39"
      },
      "source": [
        "arr = np.array([0, 1, 2])\n",
        "print (repr(arr))\n",
        "print(arr.dtype)\n",
        "\n",
        "arr = arr.astype(np.float32)\n",
        "print (repr(arr))\n",
        "print(arr.dtype)"
      ],
      "execution_count": 11,
      "outputs": [
        {
          "output_type": "stream",
          "text": [
            "array([0, 1, 2])\n",
            "int64\n",
            "array([0., 1., 2.], dtype=float32)\n",
            "float32\n"
          ],
          "name": "stdout"
        }
      ]
    },
    {
      "cell_type": "markdown",
      "metadata": {
        "id": "Mx1P2GmymHJW",
        "colab_type": "text"
      },
      "source": [
        "# **NumPy Basics**\n",
        "Perform basic operations to create and modify NumPy arrays.\n"
      ]
    },
    {
      "cell_type": "markdown",
      "metadata": {
        "id": "Ive0VNg1_rYu",
        "colab_type": "text"
      },
      "source": [
        "**Ranged Data**\n",
        "\n",
        "While np.array can be used to create any array, it is equivalent to hardcoding an array. This won't work when the array has hundreds of values. Instead NumPy provides an option to create ranged data arrays using np.arange . The function acts very similar to range function in Python, and will always return 1-D array.\n",
        "\n",
        "The code below explains the usage of np.arange"
      ]
    },
    {
      "cell_type": "code",
      "metadata": {
        "id": "2SfBHlCKmNIE",
        "colab_type": "code",
        "colab": {
          "base_uri": "https://localhost:8080/",
          "height": 86
        },
        "outputId": "767dc8f3-8088-4012-96f3-b676d5e9cd3a"
      },
      "source": [
        "import numpy as np\n",
        "\n",
        "arr = np.arange(5)\n",
        "print(repr(arr))\n",
        "\n",
        "arr = np.arange(5.1)\n",
        "print(repr(arr))\n",
        "\n",
        "arr = np.arange(-1, 4.1)\n",
        "print(repr(arr))\n",
        "\n",
        "arr = np.arange(0, 10, 3)\n",
        "print(repr(arr))"
      ],
      "execution_count": 12,
      "outputs": [
        {
          "output_type": "stream",
          "text": [
            "array([0, 1, 2, 3, 4])\n",
            "array([0., 1., 2., 3., 4., 5.])\n",
            "array([-1.,  0.,  1.,  2.,  3.,  4.])\n",
            "array([0, 3, 6, 9])\n"
          ],
          "name": "stdout"
        }
      ]
    },
    {
      "cell_type": "markdown",
      "metadata": {
        "id": "4hc6LT6XnljS",
        "colab_type": "text"
      },
      "source": [
        "The output of np.arange is spefied as follows:\n",
        "\n",
        "* If only single number, lets say n is passed as an argument, np.arange will return an array with all the integers in the range[0,n). \n",
        "* For two arguments, m and n, np.arange will return an array with all the integers in the range [m,n).\n",
        "* If three arguments are given lets say m, n, and s, np.arange will return an array with all the integers in the range(m,n) using a step size s.\n",
        "\n",
        "NOTE: Like np.array, np.arange perform upcasting. It also has dtype keyword argument to manually cast the array.\n"
      ]
    },
    {
      "cell_type": "markdown",
      "metadata": {
        "id": "9hG6BopxDY4r",
        "colab_type": "text"
      },
      "source": [
        "**Linspace Function**\n",
        "\n",
        "np.linspace(): \n",
        "\n",
        "To specify the number of element in the returned array, rather than step size we can use the np.linspace function. \n",
        "\n",
        "This function takes in a required first two arguments, for the start and end of the range, respectively. The end of the range is inclusive for np.linspace unless the keyword endpoint is set to False. \n",
        "\n",
        "To specify the number of elements we set the num keyword, its default value is 50.\n",
        "\n",
        "The code below explaines the use of np.linspace."
      ]
    },
    {
      "cell_type": "code",
      "metadata": {
        "id": "OCiX0KdAAio0",
        "colab_type": "code",
        "colab": {
          "base_uri": "https://localhost:8080/",
          "height": 69
        },
        "outputId": "5d0b54a3-710a-4fd5-8229-40e8fd9131d6"
      },
      "source": [
        "arr = np.linspace(5, 10, num=4)\n",
        "print(repr(arr))\n",
        "\n",
        "arr = np.linspace(5, 10, num=4, endpoint=False)\n",
        "print(repr(arr))\n",
        "\n",
        "arr = np.linspace(5, 10, num=4, dtype = np.int32)\n",
        "print(repr(arr))"
      ],
      "execution_count": 13,
      "outputs": [
        {
          "output_type": "stream",
          "text": [
            "array([ 5.        ,  6.66666667,  8.33333333, 10.        ])\n",
            "array([5.  , 6.25, 7.5 , 8.75])\n",
            "array([ 5,  6,  8, 10], dtype=int32)\n"
          ],
          "name": "stdout"
        }
      ]
    },
    {
      "cell_type": "markdown",
      "metadata": {
        "id": "bB-DahQziIbA",
        "colab_type": "text"
      },
      "source": [
        "**Reshaping Data**\n",
        "\n",
        "The function we use to reshape data in NumPy is np.reshape. It takes in an array and a new shape as required arguments. The new shape must exactly contain all the elements from the input array. For example, we could reshape an array with 12 elements to (4, 3), but we can't reshape it to (4, 4).\n",
        "\n",
        "We are allowed to use the special value of -1 in at most one dimension of the new shape. The dimension with -1 will take on the value necessary to allow the new shape to contain all the elements of the array.\n",
        "\n",
        "The code below shows example usages of np.reshape."
      ]
    },
    {
      "cell_type": "code",
      "metadata": {
        "id": "6ChjjEmQEcqb",
        "colab_type": "code",
        "colab": {
          "base_uri": "https://localhost:8080/",
          "height": 155
        },
        "outputId": "05393ad2-a3ab-424d-9415-ffdaaafac0d9"
      },
      "source": [
        "arr = np.arange(8)\n",
        "print(repr(arr))\n",
        "print (arr.shape)\n",
        "print(\"\\n\")\n",
        "\n",
        "reshaped_arr = np.reshape(arr, (2, 4))\n",
        "print(repr(reshaped_arr))\n",
        "print('\\nNew shape: {}'.format(reshaped_arr.shape))\n",
        "\n"
      ],
      "execution_count": 14,
      "outputs": [
        {
          "output_type": "stream",
          "text": [
            "array([0, 1, 2, 3, 4, 5, 6, 7])\n",
            "(8,)\n",
            "\n",
            "\n",
            "array([[0, 1, 2, 3],\n",
            "       [4, 5, 6, 7]])\n",
            "\n",
            "New shape: (2, 4)\n"
          ],
          "name": "stdout"
        }
      ]
    },
    {
      "cell_type": "markdown",
      "metadata": {
        "id": "dKuc_HiykTvp",
        "colab_type": "text"
      },
      "source": [
        "While the np.reshape function can perform any reshaping utilities we need, NumPy provides an inherent function for flattening an array. Flattening an array reshapes it into a 1D array. Since we need to flatten data quite often, it is a useful function.\n",
        "\n",
        "The code below flattens an array using the inherent flatten function."
      ]
    },
    {
      "cell_type": "code",
      "metadata": {
        "id": "Qijeqp47jNll",
        "colab_type": "code",
        "colab": {
          "base_uri": "https://localhost:8080/",
          "height": 104
        },
        "outputId": "874d7235-8a55-425d-f035-1db2c56ec0bc"
      },
      "source": [
        "arr = np.arange(8)\n",
        "arr = np.reshape(arr, (2, 4))\n",
        "flattened = arr.flatten()\n",
        "print(repr(arr))\n",
        "print('arr shape: {}'.format(arr.shape))\n",
        "print(repr(flattened))\n",
        "print('flattened shape: {}'.format(flattened.shape))"
      ],
      "execution_count": 15,
      "outputs": [
        {
          "output_type": "stream",
          "text": [
            "array([[0, 1, 2, 3],\n",
            "       [4, 5, 6, 7]])\n",
            "arr shape: (2, 4)\n",
            "array([0, 1, 2, 3, 4, 5, 6, 7])\n",
            "flattened shape: (8,)\n"
          ],
          "name": "stdout"
        }
      ]
    },
    {
      "cell_type": "markdown",
      "metadata": {
        "id": "D1nAJvx3n_Ze",
        "colab_type": "text"
      },
      "source": [
        "**Transposing**\n",
        "\n",
        "Similar to how it is common to reshape data, it is also common to transpose data. Perhaps we have data that's supposed to be in a particular format, but some new data we get is rearranged. We can just transpose the data, using the np.transpose function, to convert it to the proper format.\n",
        "\n",
        "The code below shows an example usage of the np.transpose function. The matrix rows become columns after the transpose.\n"
      ]
    },
    {
      "cell_type": "code",
      "metadata": {
        "id": "DBCJ5uF0n78i",
        "colab_type": "code",
        "colab": {
          "base_uri": "https://localhost:8080/",
          "height": 155
        },
        "outputId": "58e4b895-82ef-4e93-9c6d-4ad87ced5a6e"
      },
      "source": [
        "arr = np.arange(8)\n",
        "arr = np.reshape(arr, (4, 2))\n",
        "transposed = np.transpose(arr)\n",
        "print(repr(arr))\n",
        "print('arr shape: {}'.format(arr.shape))\n",
        "print(repr(transposed))\n",
        "print('transposed shape: {}'.format(transposed.shape))"
      ],
      "execution_count": 16,
      "outputs": [
        {
          "output_type": "stream",
          "text": [
            "array([[0, 1],\n",
            "       [2, 3],\n",
            "       [4, 5],\n",
            "       [6, 7]])\n",
            "arr shape: (4, 2)\n",
            "array([[0, 2, 4, 6],\n",
            "       [1, 3, 5, 7]])\n",
            "transposed shape: (2, 4)\n"
          ],
          "name": "stdout"
        }
      ]
    },
    {
      "cell_type": "markdown",
      "metadata": {
        "id": "NU-4qUJOo0Hl",
        "colab_type": "text"
      },
      "source": [
        "**Zeros and Ones**\n",
        "\n",
        "Sometimes, we need to create arrays filled solely with 0 or 1. For example, since binary data is labeled with 0 and 1, we may need to create dummy datasets of strictly one label. For creating these arrays, NumPy provides the functions np.zeros and np.ones. They both take in the same arguments, which includes just one required argument, the array shape. The functions also allow for manual casting using the dtype keyword argument.\n",
        "\n",
        "The code below shows example usages of np.zeros and np.ones.\n"
      ]
    },
    {
      "cell_type": "code",
      "metadata": {
        "id": "SJ5-ked8odXW",
        "colab_type": "code",
        "colab": {
          "base_uri": "https://localhost:8080/",
          "height": 190
        },
        "outputId": "c4080660-8c3b-4a76-91b8-8968c95fabec"
      },
      "source": [
        "arr = np.zeros(4)\n",
        "print(repr(arr))\n",
        "\n",
        "arr = np.ones (5)\n",
        "print (repr (arr))\n",
        "\n",
        "arr = np.ones((2, 3))\n",
        "print(repr(arr))\n",
        "\n",
        "arr = np.ones((2, 3), dtype=np.int32)\n",
        "print(repr(arr))\n",
        "\n",
        "arr = np.identity(4)\n",
        "print (repr(arr))"
      ],
      "execution_count": 17,
      "outputs": [
        {
          "output_type": "stream",
          "text": [
            "array([0., 0., 0., 0.])\n",
            "array([1., 1., 1., 1., 1.])\n",
            "array([[1., 1., 1.],\n",
            "       [1., 1., 1.]])\n",
            "array([[1, 1, 1],\n",
            "       [1, 1, 1]], dtype=int32)\n",
            "array([[1., 0., 0., 0.],\n",
            "       [0., 1., 0., 0.],\n",
            "       [0., 0., 1., 0.],\n",
            "       [0., 0., 0., 1.]])\n"
          ],
          "name": "stdout"
        }
      ]
    },
    {
      "cell_type": "markdown",
      "metadata": {
        "id": "WdZfPOej9ql4",
        "colab_type": "text"
      },
      "source": [
        "# **Math** \n",
        "Understand how arithmetic and linear algebra work in NumPy\n",
        "\n"
      ]
    },
    {
      "cell_type": "markdown",
      "metadata": {
        "id": "8V7WDPAD-AFV",
        "colab_type": "text"
      },
      "source": [
        "**Arithmetic**\n",
        "\n",
        "One of the main purposes of NumPy is to perform multidimensional arithmetic. Using Numpy arrays, we can apply arithmetic to each element with a single operations.\n",
        "\n",
        "The code below shows multi-dimensional arithmetic with NumPy\n"
      ]
    },
    {
      "cell_type": "code",
      "metadata": {
        "id": "vCvmYOf89_Ar",
        "colab_type": "code",
        "colab": {
          "base_uri": "https://localhost:8080/",
          "height": 259
        },
        "outputId": "e12892e7-4626-4ffb-a8a6-64d742a1454a"
      },
      "source": [
        "arr = np.array([[1,2], [3,4]])\n",
        "\n",
        "print (repr(arr))\n",
        "\n",
        "# Add 1 to element values\n",
        "print(repr(arr + 1))\n",
        "\n",
        "# Subtract element values by 1.2\n",
        "print(repr(arr - 1.2))\n",
        "\n",
        "# Double element values\n",
        "print(repr(arr * 2))\n",
        "\n",
        "# Half the element values\n",
        "print(repr(arr / 2))\n",
        "\n",
        "# Square element values\n",
        "print(repr(arr ** 2))\n",
        "\n",
        "# Square root element values\n",
        "print(repr(arr**0.5))"
      ],
      "execution_count": 18,
      "outputs": [
        {
          "output_type": "stream",
          "text": [
            "array([[1, 2],\n",
            "       [3, 4]])\n",
            "array([[2, 3],\n",
            "       [4, 5]])\n",
            "array([[-0.2,  0.8],\n",
            "       [ 1.8,  2.8]])\n",
            "array([[2, 4],\n",
            "       [6, 8]])\n",
            "array([[0.5, 1. ],\n",
            "       [1.5, 2. ]])\n",
            "array([[ 1,  4],\n",
            "       [ 9, 16]])\n",
            "array([[1.        , 1.41421356],\n",
            "       [1.73205081, 2.        ]])\n"
          ],
          "name": "stdout"
        }
      ]
    },
    {
      "cell_type": "markdown",
      "metadata": {
        "id": "PqUozMbfJePL",
        "colab_type": "text"
      },
      "source": [
        "Some more operations in numpy such as to find the minimum, maximum as well the sum of the numpy array. "
      ]
    },
    {
      "cell_type": "code",
      "metadata": {
        "id": "gNYyXIoCJb7m",
        "colab_type": "code",
        "colab": {
          "base_uri": "https://localhost:8080/",
          "height": 69
        },
        "outputId": "1337d3dc-d07a-4635-cd59-d4e390c170c3"
      },
      "source": [
        "import numpy as np\n",
        " \n",
        "a= np.array([1,2,3])\n",
        "print(repr(a.min()))\n",
        "print(repr(a.max()))\n",
        "print(repr(a.sum()))"
      ],
      "execution_count": 19,
      "outputs": [
        {
          "output_type": "stream",
          "text": [
            "1\n",
            "3\n",
            "6\n"
          ],
          "name": "stdout"
        }
      ]
    },
    {
      "cell_type": "markdown",
      "metadata": {
        "id": "diI9vHx5JoPt",
        "colab_type": "text"
      },
      "source": [
        "There are various mathematical functions that can be performed using python numpy. You can find the square root, standard deviation of the array."
      ]
    },
    {
      "cell_type": "code",
      "metadata": {
        "id": "-UEim3PlJo29",
        "colab_type": "code",
        "colab": {
          "base_uri": "https://localhost:8080/",
          "height": 52
        },
        "outputId": "ac0a6d3e-870b-4256-a711-2e72801afa4b"
      },
      "source": [
        "import numpy as np\n",
        "a=np.array([(1,2,3)])\n",
        "print(np.sqrt(a))\n",
        "print(np.std(a))"
      ],
      "execution_count": 20,
      "outputs": [
        {
          "output_type": "stream",
          "text": [
            "[[1.         1.41421356 1.73205081]]\n",
            "0.816496580927726\n"
          ],
          "name": "stdout"
        }
      ]
    },
    {
      "cell_type": "markdown",
      "metadata": {
        "id": "fA9KRtm9Aes0",
        "colab_type": "text"
      },
      "source": [
        "**Non-Linear functions**\n",
        "\n",
        "Apart from basic arithmetic operations, Numpy also allows you to use non-linear functions such as exponentials and logarithms.\n",
        "\n",
        "The function np.exp performs a base e exponential on array while the function np.exp2 performs a base 2 exponential. Likewise np.log, np.log2, np.log10 all perform logarithms on an input array using base e, base2, base10 respectively.\n",
        "\n",
        "The code below shows various exponentials and logarithms with NumPy. Note that np.e and np.pi represents mathematical constants e and π, respectively."
      ]
    },
    {
      "cell_type": "code",
      "metadata": {
        "id": "MXM3RyufAI7F",
        "colab_type": "code",
        "colab": {
          "base_uri": "https://localhost:8080/",
          "height": 155
        },
        "outputId": "6b120009-3870-4c98-b37b-26e28d544fea"
      },
      "source": [
        "arr = np.array([[1, 2], [3, 4]])\n",
        "# Raised to power of 3\n",
        "print(repr(np.exp(arr)))\n",
        "# Raised to power of 2\n",
        "print(repr(np.exp2(arr)))\n",
        "\n",
        "arr2 = np.array([[1, 10], [np.e, np.pi]])\n",
        "# Natural logarithm\n",
        "print(repr(np.log(arr2)))\n",
        "# Base 10 logarithm\n",
        "print(repr(np.log10(arr2)))"
      ],
      "execution_count": 21,
      "outputs": [
        {
          "output_type": "stream",
          "text": [
            "array([[ 2.71828183,  7.3890561 ],\n",
            "       [20.08553692, 54.59815003]])\n",
            "array([[ 2.,  4.],\n",
            "       [ 8., 16.]])\n",
            "array([[0.        , 2.30258509],\n",
            "       [1.        , 1.14472989]])\n",
            "array([[0.        , 1.        ],\n",
            "       [0.43429448, 0.49714987]])\n"
          ],
          "name": "stdout"
        }
      ]
    },
    {
      "cell_type": "markdown",
      "metadata": {
        "id": "S6S-2SFvRv4C",
        "colab_type": "text"
      },
      "source": [
        "**Matrix Multiplication**"
      ]
    },
    {
      "cell_type": "markdown",
      "metadata": {
        "id": "N1wR8po_RzmO",
        "colab_type": "text"
      },
      "source": [
        "Since Numpy arrays are basically vectors and matrices, it makes sense that there are functions for dot products and matrix multiplication. Specifically, the main function to use is np.matmul, which takes two vector/matrix arrays as input and produces a dot product or matrix multiplication. \n",
        "\n",
        "The code below explains various examples of matrix multiplication. When both inputs are 1-D, the output is dot product.\n",
        "\n",
        "Note that dimensions of the two input matrixes must be valid for a matrix multiplication. Specifically, the second dimensions of the first matrix must equal the first dimensions of the second matrix, otherwise np.matmul will result in a ValueError.\n"
      ]
    },
    {
      "cell_type": "code",
      "metadata": {
        "id": "PKBZqAiXCHQm",
        "colab_type": "code",
        "colab": {
          "base_uri": "https://localhost:8080/",
          "height": 121
        },
        "outputId": "617bd196-c301-4d03-b84a-2c433b489edc"
      },
      "source": [
        "arr1 = np.array([1, 2, 3])\n",
        "arr2 = np.array([-3, 0, 10])\n",
        "print(repr(np.matmul(arr1, arr2)))\n",
        "\n",
        "arr3 = np.array([[1, 2], [3, 4], [5, 6]])\n",
        "arr4 = np.array([[-1, 0, 1], [3, 2, -4]])\n",
        "\n",
        "print(repr(np.matmul(arr3, arr4)))\n",
        "print(repr(np.matmul(arr4, arr3)))\n",
        "# This will result in ValueError\n",
        "# print(repr(np.matmul(arr3, arr3)))"
      ],
      "execution_count": 22,
      "outputs": [
        {
          "output_type": "stream",
          "text": [
            "27\n",
            "array([[  5,   4,  -7],\n",
            "       [  9,   8, -13],\n",
            "       [ 13,  12, -19]])\n",
            "array([[  4,   4],\n",
            "       [-11, -10]])\n"
          ],
          "name": "stdout"
        }
      ]
    },
    {
      "cell_type": "markdown",
      "metadata": {
        "id": "qYZhE-8Qefog",
        "colab_type": "text"
      },
      "source": [
        "# **Random Integers**\n",
        "\n",
        "Similar to python random module, NumPy has its own submodule for  pseudo-random number generation called np.random. It provides all the necessary randomized operations and extends it to multi-dimensional arrays. \n",
        "To generate pseudo-random integers we use np.random.randint function.\n",
        "\n",
        "The code below shows example of np.random.randint\n"
      ]
    },
    {
      "cell_type": "code",
      "metadata": {
        "id": "byL6dnAHeX0C",
        "colab_type": "code",
        "colab": {
          "base_uri": "https://localhost:8080/",
          "height": 121
        },
        "outputId": "5940c7ad-a3f4-4ebe-f904-ceb7b899a49b"
      },
      "source": [
        "import numpy as np\n",
        "\n",
        "print(np.random.randint(5))\n",
        "print(np.random.randint(5))\n",
        "print(np.random.randint(5, high=9))\n",
        "\n",
        "random_arr = np.random.randint(-3, high=14,\n",
        "                               size=(3, 3))\n",
        "print(repr(random_arr))"
      ],
      "execution_count": 23,
      "outputs": [
        {
          "output_type": "stream",
          "text": [
            "4\n",
            "1\n",
            "8\n",
            "array([[ 2,  0,  2],\n",
            "       [-1, -3,  7],\n",
            "       [ 9,  0, -3]])\n"
          ],
          "name": "stdout"
        }
      ]
    },
    {
      "cell_type": "markdown",
      "metadata": {
        "id": "oK0ET9Z3vmVY",
        "colab_type": "text"
      },
      "source": [
        "# **Indexing**\n",
        "\n",
        "Index into NumPy arrays to extract data and array slices\n"
      ]
    },
    {
      "cell_type": "markdown",
      "metadata": {
        "id": "vM3HbjsQE1Hq",
        "colab_type": "text"
      },
      "source": [
        "**Array accessing**\n",
        "\n",
        "Accessing NumPy arrays is identical to accessing python list. For Multi-dimensional arrays it is equivalent to accessing Python list of lists.\n",
        "\n",
        "The code below shows example how to access NumPy arrays\n"
      ]
    },
    {
      "cell_type": "code",
      "metadata": {
        "id": "AK_xJmHCuH07",
        "colab_type": "code",
        "colab": {
          "base_uri": "https://localhost:8080/",
          "height": 121
        },
        "outputId": "fce9d218-a062-483d-878b-ad1d593e270e"
      },
      "source": [
        "import numpy as np\n",
        "\n",
        "arr = np.arange(5)\n",
        "print(repr(arr))\n",
        "print(arr[0])\n",
        "print(arr[4])\n",
        "\n",
        "arr = np.array([[6,3],[0,2]])\n",
        "# subarray\n",
        "print(repr(arr[0]))\n",
        "print(arr[0][1])\n",
        "print(arr[1][1])"
      ],
      "execution_count": 24,
      "outputs": [
        {
          "output_type": "stream",
          "text": [
            "array([0, 1, 2, 3, 4])\n",
            "0\n",
            "4\n",
            "array([6, 3])\n",
            "3\n",
            "2\n"
          ],
          "name": "stdout"
        }
      ]
    },
    {
      "cell_type": "markdown",
      "metadata": {
        "id": "yC6hhbGqFzmw",
        "colab_type": "text"
      },
      "source": [
        "**Slicing**\n",
        "\n",
        "Numpy arrays also support slicing. Similar to python we can use the colon operator for slicing. We can also use negative indexing to slice in the backwards direction.\n",
        "\n",
        "The code below explains slices of 1-D NumPy array\n",
        "\n"
      ]
    },
    {
      "cell_type": "code",
      "metadata": {
        "id": "El0psZapFeUc",
        "colab_type": "code",
        "colab": {
          "base_uri": "https://localhost:8080/",
          "height": 121
        },
        "outputId": "b8ae7a1a-338e-44a3-da31-1f4f3eaa540c"
      },
      "source": [
        "arr = np.array([1, 2, 3, 4, 5])\n",
        "print(repr(arr[:]))\n",
        "print(repr(arr[1:]))\n",
        "print(repr(arr[2:4]))\n",
        "print(repr(arr[:-1]))\n",
        "print(repr(arr[-1:-4]))\n",
        "\n",
        "print (repr (arr [ : : -1]))"
      ],
      "execution_count": 25,
      "outputs": [
        {
          "output_type": "stream",
          "text": [
            "array([1, 2, 3, 4, 5])\n",
            "array([2, 3, 4, 5])\n",
            "array([3, 4])\n",
            "array([1, 2, 3, 4])\n",
            "array([], dtype=int64)\n",
            "array([5, 4, 3, 2, 1])\n"
          ],
          "name": "stdout"
        }
      ]
    },
    {
      "cell_type": "code",
      "metadata": {
        "id": "8g_GlV_SH_N2",
        "colab_type": "code",
        "colab": {}
      },
      "source": [
        ""
      ],
      "execution_count": 25,
      "outputs": []
    },
    {
      "cell_type": "markdown",
      "metadata": {
        "id": "nTBxR2afVLot",
        "colab_type": "text"
      },
      "source": [
        "# **Filtering** \n",
        "\n",
        "Filter NumPy data for specific values."
      ]
    },
    {
      "cell_type": "markdown",
      "metadata": {
        "id": "nKOLXi03VqeE",
        "colab_type": "text"
      },
      "source": [
        "**Filtering data**\n",
        "\n",
        "Sometimes we have data that contains values we dont want to use. For example, when tracking the best hitters in baseball, we may want to only use the batting average data above say 300. In this case, we should filter the overall data for only the values we want.\n",
        "\n",
        "The key to filtering data is through basic relation operations, eg. ==, > , etc. In NumPy we can apply basic relation operations element wise on array.\n",
        "\n",
        "The code below shows relation operations on Numpy arrays. The ~ operation represents a boolean negation, i.e. it flips each truth value in array.\n"
      ]
    },
    {
      "cell_type": "code",
      "metadata": {
        "id": "Z8WPgRwSVe56",
        "colab_type": "code",
        "colab": {
          "base_uri": "https://localhost:8080/",
          "height": 328
        },
        "outputId": "7ed05605-1c5d-4f5a-c762-3f3ea6dfa7e9"
      },
      "source": [
        "arr = np.array([[0, 2, 3],\n",
        "               [1, 3, -6],\n",
        "               [-3, -2, 1]])\n",
        "\n",
        "print(repr(arr ==3))\n",
        "print(\"\\n\")\n",
        "\n",
        "print(repr(arr > 0))\n",
        "print(\"\\n\")\n",
        "\n",
        "print(repr(arr != 1))\n",
        "print(\"\\n\")\n",
        "\n",
        "# Negated the previous step\n",
        "print(repr(~(arr != 1)))"
      ],
      "execution_count": 26,
      "outputs": [
        {
          "output_type": "stream",
          "text": [
            "array([[False, False,  True],\n",
            "       [False,  True, False],\n",
            "       [False, False, False]])\n",
            "\n",
            "\n",
            "array([[False,  True,  True],\n",
            "       [ True,  True, False],\n",
            "       [False, False,  True]])\n",
            "\n",
            "\n",
            "array([[ True,  True,  True],\n",
            "       [False,  True,  True],\n",
            "       [ True,  True, False]])\n",
            "\n",
            "\n",
            "array([[False, False, False],\n",
            "       [ True, False, False],\n",
            "       [False, False,  True]])\n"
          ],
          "name": "stdout"
        }
      ]
    },
    {
      "cell_type": "markdown",
      "metadata": {
        "id": "o5h7I3TTXbTD",
        "colab_type": "text"
      },
      "source": [
        "Something to note here is that np.nan can't be used with any relation operation. Instead we use np.isnan to filter the location of np.nan.\n",
        "\n",
        "The code below uses np.isnan to determine which locations of the array contain np.nan values."
      ]
    },
    {
      "cell_type": "code",
      "metadata": {
        "id": "bNQC_kGiW5rN",
        "colab_type": "code",
        "colab": {
          "base_uri": "https://localhost:8080/",
          "height": 155
        },
        "outputId": "e21e74c5-d876-4f72-e5f6-eb79d1def920"
      },
      "source": [
        "arr = np.array([[0,2, np.nan],\n",
        "                [1, np.nan, -6],\n",
        "                [np.nan, -2, 1]])\n",
        "\n",
        "print (repr(arr))\n",
        "print(\"\\n\")\n",
        "print(repr(np.isnan(arr)))"
      ],
      "execution_count": 27,
      "outputs": [
        {
          "output_type": "stream",
          "text": [
            "array([[ 0.,  2., nan],\n",
            "       [ 1., nan, -6.],\n",
            "       [nan, -2.,  1.]])\n",
            "\n",
            "\n",
            "array([[False, False,  True],\n",
            "       [False,  True, False],\n",
            "       [ True, False, False]])\n"
          ],
          "name": "stdout"
        }
      ]
    },
    {
      "cell_type": "markdown",
      "metadata": {
        "id": "xr-dTQi_Froq",
        "colab_type": "text"
      },
      "source": [
        "# **TASK 3**"
      ]
    },
    {
      "cell_type": "markdown",
      "metadata": {
        "id": "rLi8TkW_EK-0",
        "colab_type": "text"
      },
      "source": [
        "\n",
        "**Question 1**\n",
        "\n",
        "Create an identity 2d-array or matrix (with ones across the diagonal).\n",
        "\n",
        "[ Hint: ** You can also use **np.identity() function ]\n",
        "\n"
      ]
    },
    {
      "cell_type": "markdown",
      "metadata": {
        "id": "tpgWkRKZEMSK",
        "colab_type": "text"
      },
      "source": [
        "**Question 2**\n",
        "\n",
        "Create a 2d-array or matrix of order 3x3 with values = 9,8,7,6,5,4,3,2,1 arranged in the same order.\n",
        "\n",
        "Use: np.matrix() function"
      ]
    },
    {
      "cell_type": "markdown",
      "metadata": {
        "id": "YSNbAF_gEVo6",
        "colab_type": "text"
      },
      "source": [
        "**Question 3**\n",
        "\n",
        "Reverse both the rows and columns of the above matrix.\n",
        "\n",
        "Hint: You can use the transpose .T)"
      ]
    },
    {
      "cell_type": "markdown",
      "metadata": {
        "id": "fGXQ4z91Erqq",
        "colab_type": "text"
      },
      "source": [
        "**Question 4**\n",
        "\n",
        "Add + 1 to all the elements in the given matrix."
      ]
    },
    {
      "cell_type": "markdown",
      "metadata": {
        "id": "Zk-rhc7gH-zN",
        "colab_type": "text"
      },
      "source": [
        "**Question 5**\n",
        "\n",
        "Find the mean, standard deviation and sum of all elements in the given matrix nd6. nd6 = [[ 1 4 9 121 144 169] [ 16 25 36 196 225 256] [ 49 64 81 289 324 361]]\n",
        "\n",
        "Use: .mean() function"
      ]
    },
    {
      "cell_type": "code",
      "metadata": {
        "id": "2F_7KakTI1rj",
        "colab_type": "code",
        "colab": {}
      },
      "source": [
        ""
      ],
      "execution_count": 27,
      "outputs": []
    }
  ]
}